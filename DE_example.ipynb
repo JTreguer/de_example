{
 "cells": [
  {
   "cell_type": "markdown",
   "metadata": {},
   "source": [
    "# An example of Differential Evolution algorithm implementation in Python 3\n",
    "As described in https://en.wikipedia.org/wiki/Differential_evolution"
   ]
  },
  {
   "cell_type": "code",
   "execution_count": 89,
   "metadata": {},
   "outputs": [],
   "source": [
    "import numpy as np\n",
    "import matplotlib.pyplot as plt\n",
    "import random\n",
    "\n",
    "def sigmoid(x):\n",
    "    return 1 / (1 + np.exp(-x))"
   ]
  },
  {
   "cell_type": "markdown",
   "metadata": {},
   "source": [
    "## 1-D example"
   ]
  },
  {
   "cell_type": "code",
   "execution_count": 94,
   "metadata": {},
   "outputs": [
    {
     "name": "stdout",
     "output_type": "stream",
     "text": [
      "[[1.99999995]\n",
      " [1.99999766]\n",
      " [1.99998117]\n",
      " [1.99999837]\n",
      " [1.99999766]\n",
      " [1.99999327]\n",
      " [1.99999327]\n",
      " [1.99999766]\n",
      " [1.99993255]\n",
      " [1.99999327]]\n",
      "45\n"
     ]
    },
    {
     "data": {
      "image/png": "[encoded data removed]",
      "text/plain": [
       "<Figure size 432x288 with 1 Axes>"
      ]
     },
     "metadata": {
      "needs_background": "light"
     },
     "output_type": "display_data"
    }
   ],
   "source": [
    "# Function to maximize\n",
    "def f(x):\n",
    "    return -(x-1)**2+2\n",
    "#Parameters\n",
    "xmin = -5\n",
    "xmax = 5\n",
    "eps = 0.01\n",
    "n = 10\n",
    "dim = 1\n",
    "CR = 0.5 # crossover probability\n",
    "F = 1 # between 0 and 2\n",
    "\n",
    "# Initialization\n",
    "x = np.random.rand(n,dim)*(xmax-xmin)+xmin\n",
    "xnew = np.zeros((n,dim))\n",
    "\n",
    "# Main loop\n",
    "tol = 1e9\n",
    "count = 0\n",
    "while tol > eps:\n",
    "    plt.xlim(xmin,xmax)\n",
    "    color = [(1-sigmoid(count/10),0,0) for i in range(n)]\n",
    "    plt.scatter(x,f(x),s=(count+1),c=color,cmap=plt.get_cmap(\"Reds\"))\n",
    "    for idx,curr_x in enumerate(x):\n",
    "        L = list(range(n))\n",
    "        L.pop(idx)\n",
    "        seeds = []\n",
    "        for j in range(3):\n",
    "            chosen = random.choice(L)\n",
    "            seeds.append(chosen)\n",
    "            L.remove(chosen)\n",
    "        a, b, c = x[seeds]\n",
    "        delta = np.random.rand(dim)\n",
    "        for i in range(dim):\n",
    "            if (i == delta) or ( random.random()<= CR):\n",
    "                xnew[idx,i] = a + F*(b-c)\n",
    "            else:\n",
    "                xnew[idx,i] = curr_x\n",
    "    f_x = f(x)\n",
    "    f_new = f(xnew)\n",
    "    x[f_new>f_x] = xnew[f_new>f_x]\n",
    "    tol = np.max(np.max(xnew)-np.min(xnew)) #np.linalg.norm(f_x-f_new)\n",
    "    count += 1\n",
    "    \n",
    "print(f_x)\n",
    "print(count)"
   ]
  },
  {
   "cell_type": "markdown",
   "metadata": {},
   "source": [
    "## 2-D example and function"
   ]
  },
  {
   "cell_type": "code",
   "execution_count": 160,
   "metadata": {},
   "outputs": [],
   "source": [
    "# DE function for multidimensioal objective function\n",
    "\n",
    "def de_optimize(f,**kwargs):\n",
    "    \n",
    "    # Get parameters\n",
    "    xmin = kwargs['xmin']\n",
    "    xmax = kwargs['xmax']\n",
    "    eps = kwargs['eps']\n",
    "    n = kwargs['pop_size']\n",
    "    dim = kwargs['n_dim']\n",
    "    CR = kwargs['crossover']\n",
    "    F = kwargs['diff_weight']\n",
    "    maximize = kwargs['maximize']\n",
    "    \n",
    "    # Initialization\n",
    "    x = np.random.rand(n,dim)*(xmax-xmin)+xmin\n",
    "    xnew = np.zeros((n,dim))\n",
    "\n",
    "    # Main loop\n",
    "    tol = 1e9\n",
    "    count = 0\n",
    "    while tol > eps:\n",
    "        for idx,curr_x in enumerate(x):\n",
    "            L = list(range(n))\n",
    "            L.pop(idx)\n",
    "            seeds = []\n",
    "            for j in range(3):\n",
    "                chosen = random.choice(L)\n",
    "                seeds.append(chosen)\n",
    "                L.remove(chosen)\n",
    "            a, b, c = x[seeds]\n",
    "            delta = np.random.randint(dim)\n",
    "            for i in range(dim):\n",
    "                if (i == delta) or ( random.random()<= CR):\n",
    "                    xnew[idx,i] = a[i] + F*(b[i]-c[i])\n",
    "                else:\n",
    "                    xnew[idx,i] = curr_x[i]\n",
    "        f_x = f(x)\n",
    "        f_new = f(xnew)\n",
    "        if maximize:\n",
    "            x[f_new>f_x] = xnew[f_new>f_x]\n",
    "        else:\n",
    "            x[f_new<f_x] = xnew[f_new<f_x]\n",
    "        tol = np.max(np.max(xnew)-np.min(xnew)) #np.linalg.norm(f_x-f_new) # the stop criterion might not be the best\n",
    "        count += 1\n",
    "    if maximize:\n",
    "        solution = x[np.argmax(f_x)]\n",
    "        optimum = np.max(f_x)\n",
    "    else:\n",
    "        solution = x[np.argmin(f_x)]\n",
    "        optimum = np.min(f_x)   \n",
    "    return solution,optimum,count\n",
    "        \n"
   ]
  },
  {
   "cell_type": "code",
   "execution_count": 163,
   "metadata": {},
   "outputs": [
    {
     "data": {
      "text/plain": [
       "(array([-3.31098823e-06,  7.79947182e-05]), -0.9999999939058613, 60)"
      ]
     },
     "execution_count": 163,
     "metadata": {},
     "output_type": "execute_result"
    }
   ],
   "source": [
    "# Application\n",
    "rec = {'xmin' : -5, 'xmax' : 5,\n",
    "      'eps' : 0.001,\n",
    "      'pop_size' : 10, 'n_dim' : 2,\n",
    "      'crossover' : 0.5, 'diff_weight' : 1.0,\n",
    "      'maximize' : False}\n",
    "\n",
    "def f_2d(x):\n",
    "    return x[:,0]**2+x[:,1]**2-1\n",
    "\n",
    "de_optimize(f_2d,**rec)"
   ]
  }
 ],
 "metadata": {
  "kernelspec": {
   "display_name": "Python 3",
   "language": "python",
   "name": "python3"
  },
  "language_info": {
   "codemirror_mode": {
    "name": "ipython",
    "version": 3
   },
   "file_extension": ".py",
   "mimetype": "text/x-python",
   "name": "python",
   "nbconvert_exporter": "python",
   "pygments_lexer": "ipython3",
   "version": "3.6.9"
  }
 },
 "nbformat": 4,
 "nbformat_minor": 4
}
