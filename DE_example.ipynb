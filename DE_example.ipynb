{
 "cells": [
  {
   "cell_type": "markdown",
   "metadata": {},
   "source": [
    "# An example of Differential Evolution algorithm implementation in Python 3\n",
    "As described in https://en.wikipedia.org/wiki/Differential_evolution"
   ]
  },
  {
   "cell_type": "code",
   "execution_count": 166,
   "metadata": {},
   "outputs": [],
   "source": [
    "import numpy as np\n",
    "import matplotlib.pyplot as plt\n",
    "import random\n",
    "\n",
    "def sigmoid(x):\n",
    "    return 1 / (1 + np.exp(-x))"
   ]
  },
  {
   "cell_type": "markdown",
   "metadata": {},
   "source": [
    "## 1-D example"
   ]
  },
  {
   "cell_type": "code",
   "execution_count": 167,
   "metadata": {},
   "outputs": [
    {
     "name": "stdout",
     "output_type": "stream",
     "text": [
      "[[1.99998764]\n",
      " [1.99998764]\n",
      " [1.99998764]\n",
      " [1.99998764]\n",
      " [1.99998764]\n",
      " [1.99998764]\n",
      " [1.99998764]\n",
      " [1.99998764]\n",
      " [1.99998764]\n",
      " [1.99998764]]\n",
      "37\n"
     ]
    },
    {
     "data": {
      "image/png": "[encoded data removed]",
      "text/plain": [
       "<Figure size 432x288 with 1 Axes>"
      ]
     },
     "metadata": {
      "needs_background": "light"
     },
     "output_type": "display_data"
    }
   ],
   "source": [
    "# Function to maximize\n",
    "def f(x):\n",
    "    return -(x-1)**2+2\n",
    "#Parameters\n",
    "xmin = -5\n",
    "xmax = 5\n",
    "eps = 0.01\n",
    "n = 10\n",
    "dim = 1\n",
    "CR = 0.5 # crossover probability\n",
    "F = 1 # between 0 and 2\n",
    "\n",
    "# Initialization\n",
    "x = np.random.rand(n,dim)*(xmax-xmin)+xmin\n",
    "xnew = np.zeros((n,dim))\n",
    "\n",
    "# Main loop\n",
    "tol = 1e9\n",
    "count = 0\n",
    "while tol > eps:\n",
    "    plt.xlim(xmin,xmax)\n",
    "    color = [(1-sigmoid(count/10),0,0) for i in range(n)]\n",
    "    plt.scatter(x,f(x),s=(count+1),c=color,cmap=plt.get_cmap(\"Reds\"))\n",
    "    for idx,curr_x in enumerate(x):\n",
    "        L = list(range(n))\n",
    "        L.pop(idx)\n",
    "        seeds = []\n",
    "        for j in range(3):\n",
    "            chosen = random.choice(L)\n",
    "            seeds.append(chosen)\n",
    "            L.remove(chosen)\n",
    "        a, b, c = x[seeds]\n",
    "        delta = np.random.rand(dim)\n",
    "        for i in range(dim):\n",
    "            if (i == delta) or ( random.random()<= CR):\n",
    "                xnew[idx,i] = a + F*(b-c)\n",
    "            else:\n",
    "                xnew[idx,i] = curr_x\n",
    "    f_x = f(x)\n",
    "    f_new = f(xnew)\n",
    "    x[f_new>f_x] = xnew[f_new>f_x]\n",
    "    tol = np.max(np.max(xnew)-np.min(xnew)) #np.linalg.norm(f_x-f_new)\n",
    "    count += 1\n",
    "    \n",
    "print(f_x)\n",
    "print(count)"
   ]
  },
  {
   "cell_type": "markdown",
   "metadata": {},
   "source": [
    "## 2-D example and function"
   ]
  },
  {
   "cell_type": "code",
   "execution_count": 168,
   "metadata": {},
   "outputs": [],
   "source": [
    "# DE function for multidimensioal objective function\n",
    "\n",
    "def de_optimize(f,**kwargs):\n",
    "    \n",
    "    # Get parameters\n",
    "    xmin = kwargs['xmin']\n",
    "    xmax = kwargs['xmax']\n",
    "    eps = kwargs['eps']\n",
    "    n = kwargs['pop_size']\n",
    "    dim = kwargs['n_dim']\n",
    "    CR = kwargs['crossover']\n",
    "    F = kwargs['diff_weight']\n",
    "    maximize = kwargs['maximize']\n",
    "    \n",
    "    # Initialization\n",
    "    x = np.random.rand(n,dim)*(xmax-xmin)+xmin\n",
    "    xnew = np.zeros((n,dim))\n",
    "\n",
    "    # Main loop\n",
    "    tol = 1e9\n",
    "    count = 0\n",
    "    while tol > eps:\n",
    "        for idx,curr_x in enumerate(x):\n",
    "            L = list(range(n))\n",
    "            L.pop(idx)\n",
    "            seeds = []\n",
    "            for j in range(3):\n",
    "                chosen = random.choice(L)\n",
    "                seeds.append(chosen)\n",
    "                L.remove(chosen)\n",
    "            a, b, c = x[seeds]\n",
    "            delta = np.random.randint(dim)\n",
    "            for i in range(dim):\n",
    "                if (i == delta) or ( random.random()<= CR):\n",
    "                    xnew[idx,i] = a[i] + F*(b[i]-c[i])\n",
    "                else:\n",
    "                    xnew[idx,i] = curr_x[i]\n",
    "        f_x = f(x)\n",
    "        f_new = f(xnew)\n",
    "        if maximize:\n",
    "            x[f_new>f_x] = xnew[f_new>f_x]\n",
    "        else:\n",
    "            x[f_new<f_x] = xnew[f_new<f_x]\n",
    "        tol = np.max(np.max(xnew)-np.min(xnew)) #np.linalg.norm(f_x-f_new) # the stop criterion might not be the best\n",
    "        count += 1\n",
    "    if maximize:\n",
    "        solution = x[np.argmax(f_x)]\n",
    "        optimum = np.max(f_x)\n",
    "    else:\n",
    "        solution = x[np.argmin(f_x)]\n",
    "        optimum = np.min(f_x)\n",
    "    return solution,optimum,count\n",
    "        \n"
   ]
  },
  {
   "cell_type": "code",
   "execution_count": 169,
   "metadata": {},
   "outputs": [
    {
     "data": {
      "text/plain": [
       "(array([-3.16667698e-05, -4.06454393e-04]), -0.9999998337920419, 66)"
      ]
     },
     "execution_count": 169,
     "metadata": {},
     "output_type": "execute_result"
    }
   ],
   "source": [
    "# Application\n",
    "rec = {'xmin' : -5, 'xmax' : 5,\n",
    "      'eps' : 0.001,\n",
    "      'pop_size' : 10, 'n_dim' : 2,\n",
    "      'crossover' : 0.5, 'diff_weight' : 1.0,\n",
    "      'maximize' : False}\n",
    "\n",
    "def f_2d(x):\n",
    "    return x[:,0]**2+x[:,1]**2-1\n",
    "\n",
    "de_optimize(f_2d,**rec)"
   ]
  },
  {
   "cell_type": "code",
   "execution_count": 174,
   "metadata": {},
   "outputs": [
    {
     "data": {
      "text/plain": [
       "(array([ 2.40150485e-07, -8.08221138e-04, -1.77840397e-05]),\n",
       " -0.9999993467785341,\n",
       " 119)"
      ]
     },
     "execution_count": 174,
     "metadata": {},
     "output_type": "execute_result"
    }
   ],
   "source": [
    "# Application\n",
    "rec = {'xmin' : np.array([-5,-3,-4]), 'xmax' : np.array([5,6,2]),\n",
    "      'eps' : 0.001,\n",
    "      'pop_size' : 10, 'n_dim' : 3,\n",
    "      'crossover' : 0.5, 'diff_weight' : 1.0,\n",
    "      'maximize' : False}\n",
    "\n",
    "def f_3d(x):\n",
    "    return x[:,0]**2+x[:,1]**2+x[:,2]**4-1\n",
    "\n",
    "de_optimize(f_3d,**rec)"
   ]
  },
  {
   "cell_type": "markdown",
   "metadata": {},
   "source": [
    "# Modified DE\n",
    "Adapted from:\n",
    "https://aip.scitation.org/doi/pdf/10.1063/1.5013964\n",
    "Converges more slowly but hits global optimum more often."
   ]
  },
  {
   "cell_type": "code",
   "execution_count": 200,
   "metadata": {},
   "outputs": [],
   "source": [
    "# Modified DE function for multidimensioal objective function\n",
    "\n",
    "def modified_de_optimize(f,**kwargs):\n",
    "    \n",
    "    # Get parameters\n",
    "    xmin = kwargs['xmin']\n",
    "    xmax = kwargs['xmax']\n",
    "    eps = kwargs['eps']\n",
    "    n = kwargs['pop_size']\n",
    "    dim = kwargs['n_dim']\n",
    "    CR = kwargs['crossover']\n",
    "    F = kwargs['diff_weight']\n",
    "    maximize = kwargs['maximize']\n",
    "    R = kwargs['R']\n",
    "    n_bad = int(R * n)\n",
    "    \n",
    "    # Initialization\n",
    "    x = np.random.rand(n,dim)*(xmax-xmin)+xmin\n",
    "    xnew = np.zeros((n,dim))\n",
    "\n",
    "    # Main loop\n",
    "    tol = 1e9\n",
    "    count = 0\n",
    "    while tol > eps:\n",
    "        for idx,curr_x in enumerate(x):\n",
    "            L = list(range(n))\n",
    "            L.pop(idx)\n",
    "            seeds = []\n",
    "            for j in range(3):\n",
    "                chosen = random.choice(L)\n",
    "                seeds.append(chosen)\n",
    "                L.remove(chosen)\n",
    "            a, b, c = x[seeds]\n",
    "            delta = np.random.randint(dim)\n",
    "            for i in range(dim):\n",
    "                if (i == delta) or ( random.random()<= CR):\n",
    "                    xnew[idx,i] = a[i] + F*(b[i]-c[i])\n",
    "                else:\n",
    "                    xnew[idx,i] = curr_x[i]\n",
    "        f_x = f(x)\n",
    "        f_new = f(xnew)\n",
    "        if maximize:\n",
    "            x[f_new>f_x] = xnew[f_new>f_x]\n",
    "            f_x[f_new>f_x] = f_new[f_new>f_x]\n",
    "        else:\n",
    "            x[f_new<f_x] = xnew[f_new<f_x]\n",
    "            f_x[f_new<f_x] = f_new[f_new<f_x]\n",
    "            \n",
    "        tol = np.max(np.max(xnew)-np.min(xnew)) #np.linalg.norm(f_x-f_new) # the stop criterion might not be the best\n",
    "        count += 1\n",
    "        if (n_bad > 0):\n",
    "            B = np.hstack((x,f_x.reshape((n,1))))\n",
    "            B = B[B[:,-1].argsort()] # Sorting by increasing size of f_x, biggest values at the bottom\n",
    "            x = B[:,:dim]\n",
    "            if maximize:\n",
    "                x[:n_bad,:] =  np.random.rand(n_bad,dim)*(xmax-xmin)+xmin #reinitiliaze x giving the smallest values\n",
    "            else:\n",
    "                x[n-n_bad:,:] =  np.random.rand(n_bad,dim)*(xmax-xmin)+xmin #reinitiliaze x giving the highest values\n",
    "    if maximize:\n",
    "        solution = x[np.argmax(f_x)]\n",
    "        optimum = np.max(f_x)\n",
    "    else:\n",
    "        solution = x[np.argmin(f_x)]\n",
    "        optimum = np.min(f_x)\n",
    "    return solution,optimum,count"
   ]
  },
  {
   "cell_type": "code",
   "execution_count": 201,
   "metadata": {},
   "outputs": [
    {
     "name": "stdout",
     "output_type": "stream",
     "text": [
      "(array([-2.20696251e-04,  4.48496664e-05]), -0.9999999492816724, 66)\n"
     ]
    },
    {
     "data": {
      "text/plain": [
       "(array([ 2.16920716e-06, -1.23667156e-05]), -0.9999999998423589, 145)"
      ]
     },
     "execution_count": 201,
     "metadata": {},
     "output_type": "execute_result"
    }
   ],
   "source": [
    "# Application\n",
    "rec = {'xmin' : -5, 'xmax' : 5,\n",
    "      'eps' : 0.001,\n",
    "      'pop_size' : 10, 'n_dim' : 2,\n",
    "      'crossover' : 0.5, 'diff_weight' : 1.0,\n",
    "      'maximize' : False, 'R' : 0.1}\n",
    "\n",
    "def f_2d(x):\n",
    "    return x[:,0]**2+x[:,1]**2-1\n",
    "\n",
    "print(de_optimize(f_2d,**rec))\n",
    "\n",
    "modified_de_optimize(f_2d,**rec)"
   ]
  },
  {
   "cell_type": "code",
   "execution_count": null,
   "metadata": {},
   "outputs": [],
   "source": []
  }
 ],
 "metadata": {
  "kernelspec": {
   "display_name": "Python 3",
   "language": "python",
   "name": "python3"
  },
  "language_info": {
   "codemirror_mode": {
    "name": "ipython",
    "version": 3
   },
   "file_extension": ".py",
   "mimetype": "text/x-python",
   "name": "python",
   "nbconvert_exporter": "python",
   "pygments_lexer": "ipython3",
   "version": "3.6.9"
  }
 },
 "nbformat": 4,
 "nbformat_minor": 4
}
